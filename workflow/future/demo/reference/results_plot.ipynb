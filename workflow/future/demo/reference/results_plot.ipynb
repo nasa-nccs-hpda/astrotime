{
 "cells": [
  {
   "cell_type": "code",
   "execution_count": null,
   "id": "efaeb338dbac15d6",
   "metadata": {},
   "source": [
    "import numpy as np, os, time\n",
    "import tensorflow as tf\n",
    "from tensorflow import keras\n",
    "from argparse import Namespace\n",
    "from typing import List\n",
    "import matplotlib.pyplot as plt\n",
    "from matplotlib.widgets import Slider\n",
    "from tensorflow.keras.callbacks import ModelCheckpoint\n",
    "from tensorflow.keras.optimizers import Adam\n",
    "import tmodel\n",
    "args: Namespace = tmodel.load_args()\n",
    "tf.config.set_visible_devices([], 'GPU')             # disable GPU for this notebook\n",
    "\n",
    "signal_index=args.signal\n",
    "feature_type=args.feature_type"
   ],
   "outputs": []
  },
  {
   "metadata": {},
   "cell_type": "code",
   "execution_count": null,
   "source": [
    "data=tmodel.get_demo_data()\n",
    "signals = data['signals']\n",
    "T: np.ndarray = data['times'][signal_index]\n",
    "X: np.ndarray = tmodel.get_features( T, feature_type, args )\n",
    "Y: np.ndarray = signals[signal_index]\n",
    "\n",
    "validation_split = int(0.8*X.shape[0])\n",
    "Xtrain=X[:validation_split]\n",
    "Xval=X[validation_split:]\n",
    "Ytrain=Y[:validation_split]\n",
    "Yval=Y[validation_split:]\n",
    "\n",
    "strategy = tf.distribute.MirroredStrategy()\n",
    "print(f\"Number of devices: {strategy.num_replicas_in_sync}\")\n",
    "with strategy.scope():\n",
    "    model = tmodel.create_streams_model( X.shape[1], dropout_frac=args.dropout_frac, n_streams=args.nstreams )\n",
    "    model.compile( optimizer=tf.keras.optimizers.Adam( learning_rate=args.learning_rate ), loss=args.loss )"
   ],
   "id": "7c5746f77c242da4",
   "outputs": []
  },
  {
   "metadata": {},
   "cell_type": "code",
   "execution_count": null,
   "source": [
    "ckp_file = tmodel.get_ckp_file( args )\n",
    "model.load_weights(ckp_file)\n",
    "p0=model.predict( Xtrain, batch_size=args.batch_size )\n",
    "p1=model.predict( Xval,   batch_size=args.batch_size )"
   ],
   "id": "2e0f0433bb3491f0",
   "outputs": []
  },
  {
   "metadata": {},
   "cell_type": "code",
   "outputs": [],
   "execution_count": null,
   "source": [
    "rfig = plt.figure(figsize=(15,5))\n",
    "rax = rfig.add_axes([0.0, 0.0, 1.0, 1.0])\n",
    "rax.plot(T,Y,label='truth')\n",
    "rax.plot(T[:validation_split],p0[:,0],label='train prediction')\n",
    "rax.plot(T[validation_split:],p1[:,0],label='val prediction')\n",
    "rax.title(f'Signal {signal_index} (ftype={feature_type}): nfeatures={args.nfeatures}')\n",
    "rfig.legend()\n",
    "rfig.tight_layout()\n",
    "rfig.show()"
   ],
   "id": "initial_id"
  },
  {
   "metadata": {},
   "cell_type": "code",
   "outputs": [],
   "execution_count": null,
   "source": [
    "ffig = plt.figure( figsize=(22,8) )\n",
    "pax = ffig.add_axes([0.0, 0.1, 1.0, 0.9])\n",
    "sax = ffig.add_axes([0.0, 0.05, 0.8, 0.04])\n",
    "pax.set_title( f'Features (type {feature_type}): Nf={args.nfeatures}' )\n",
    "\n",
    "plots: List[plt.Line2D] = []\n",
    "for iF in range( X.shape[1] ):\n",
    "    plots.append( pax.plot( T[:], X[:,iF], label=f'Feature {iF}', alpha=tmodel.alpha(iF,0))[0])\n",
    "\n",
    "widget = Slider( sax, \"Feature\", 0, len(plots), valinit=0, valstep=1 )\n",
    "widget.on_changed( lambda sval: tmodel.select_feature(plots,ffig,sval))\n",
    "\n",
    "ffig.legend()\n",
    "ffig.tight_layout()\n",
    "ffig.show()"
   ],
   "id": "349f1c0e2db28099"
  }
 ],
 "metadata": {
  "kernelspec": {
   "display_name": "Python 3",
   "language": "python",
   "name": "python3"
  },
  "language_info": {
   "codemirror_mode": {
    "name": "ipython",
    "version": 2
   },
   "file_extension": ".py",
   "mimetype": "text/x-python",
   "name": "python",
   "nbconvert_exporter": "python",
   "pygments_lexer": "ipython2",
   "version": "2.7.6"
  }
 },
 "nbformat": 4,
 "nbformat_minor": 5
}
