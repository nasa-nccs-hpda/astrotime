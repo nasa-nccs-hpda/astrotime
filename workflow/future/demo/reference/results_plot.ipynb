{
 "cells": [
  {
   "cell_type": "code",
   "execution_count": null,
   "id": "efaeb338dbac15d6",
   "metadata": {},
   "source": [
    "%matplotlib widget\n",
    "import numpy as np, os, time\n",
    "import tensorflow as tf\n",
    "from tensorflow import keras\n",
    "from argparse import Namespace\n",
    "from typing import List\n",
    "import matplotlib.pyplot as plt\n",
    "from matplotlib.widgets import Slider\n",
    "from tensorflow.keras.callbacks import ModelCheckpoint\n",
    "from tensorflow.keras.optimizers import Adam\n",
    "import tmodel\n",
    "args: Namespace = tmodel.load_args()\n",
    "tf.config.set_visible_devices([], 'GPU')             # disable GPU for this notebook\n",
    "\n",
    "signal_index=args.signal\n",
    "feature_type=args.feature_type"
   ],
   "outputs": []
  },
  {
   "metadata": {},
   "cell_type": "code",
   "execution_count": null,
   "source": [
    "data=tmodel.get_demo_data()\n",
    "signals = data['signals']\n",
    "T: np.ndarray = data['times'][signal_index]\n",
    "X: np.ndarray = tmodel.get_features( T, feature_type, args )\n",
    "Y: np.ndarray = signals[signal_index]\n",
    "\n",
    "validation_split = int(0.8*X.shape[0])\n",
    "Xtrain=X[:validation_split]\n",
    "Xval=X[validation_split:]\n",
    "Ytrain=Y[:validation_split]\n",
    "Yval=Y[validation_split:]\n",
    "\n",
    "strategy = tf.distribute.MirroredStrategy()\n",
    "print(f\"Number of devices: {strategy.num_replicas_in_sync}\")\n",
    "with strategy.scope():\n",
    "    model = tmodel.create_streams_model( X.shape[1], dropout_frac=args.dropout_frac, n_streams=args.nstreams )\n",
    "    model.compile( optimizer=tf.keras.optimizers.Adam( learning_rate=args.learning_rate ), loss=args.loss )"
   ],
   "id": "7c5746f77c242da4",
   "outputs": []
  },
  {
   "metadata": {},
   "cell_type": "code",
   "execution_count": null,
   "source": [
    "ckp_file = tmodel.get_ckp_file( args )\n",
    "model.load_weights(ckp_file)\n",
    "p0=model.predict( Xtrain, batch_size=args.batch_size )\n",
    "p1=model.predict( Xval,   batch_size=args.batch_size )"
   ],
   "id": "2e0f0433bb3491f0",
   "outputs": []
  },
  {
   "metadata": {},
   "cell_type": "code",
   "outputs": [],
   "execution_count": null,
   "source": [
    "rfig, rax = plt.subplots(figsize=(15,5))\n",
    "rax.plot(T,Y,label='truth')\n",
    "rax.plot(T[:validation_split],p0[:,0],label='train prediction')\n",
    "rax.plot(T[validation_split:],p1[:,0],label='val prediction')\n",
    "rax.set_title(f'Signal {signal_index} (ftype={feature_type}): nfeatures={args.nfeatures}')\n",
    "rfig.legend()\n",
    "plt.show()"
   ],
   "id": "initial_id"
  },
  {
   "metadata": {},
   "cell_type": "code",
   "outputs": [],
   "execution_count": null,
   "source": [
    "ffig, pax = plt.subplots( figsize=(22,8) )\n",
    "nf = X.shape[-1]\n",
    "pax.set_title( f'Features (type {feature_type}): Nf={nf} ' )\n",
    "plot: plt.Line2D =  pax.plot( T[:], X[:,0], label=f'Feature {0}')[0]\n",
    "\n",
    "ffig.subplots_adjust(bottom=0.25)\n",
    "sax = ffig.add_axes([0.25, 0.1, 0.65, 0.03])\n",
    "widget = Slider( ax=sax, label=\"Feature\", valmin=0, valmax=nf, valinit=0, valstep=1 )\n",
    "\n",
    "def update(val):\n",
    "    iF = int(widget.val)\n",
    "    plot.set_ydata(X[:,iF])\n",
    "    ffig.canvas.draw_idle()\n",
    "widget.on_changed(update)\n",
    "ffig.legend()\n",
    "plt.show()"
   ],
   "id": "349f1c0e2db28099"
  }
 ],
 "metadata": {
  "kernelspec": {
   "display_name": "Python 3",
   "language": "python",
   "name": "python3"
  },
  "language_info": {
   "codemirror_mode": {
    "name": "ipython",
    "version": 2
   },
   "file_extension": ".py",
   "mimetype": "text/x-python",
   "name": "python",
   "nbconvert_exporter": "python",
   "pygments_lexer": "ipython2",
   "version": "2.7.6"
  }
 },
 "nbformat": 4,
 "nbformat_minor": 5
}
