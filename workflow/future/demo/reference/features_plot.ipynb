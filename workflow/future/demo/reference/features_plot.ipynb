{
 "cells": [
  {
   "cell_type": "code",
   "execution_count": null,
   "id": "efaeb338dbac15d6",
   "metadata": {},
   "source": [
    "%matplotlib widget\n",
    "import numpy as np, os, time\n",
    "import tensorflow as tf\n",
    "from tensorflow import keras\n",
    "from argparse import Namespace\n",
    "from typing import List\n",
    "import matplotlib.pyplot as plt\n",
    "from matplotlib.widgets import Slider\n",
    "from tensorflow.keras.callbacks import ModelCheckpoint\n",
    "from tensorflow.keras.optimizers import Adam\n",
    "import tmodel\n",
    "tf.config.set_visible_devices([], 'GPU')             # disable GPU for this notebook\n",
    "\n",
    "signal_index=2\n",
    "feature_type=1\n",
    "args = Namespace( nfeatures=64, minp_factor=1.0 )"
   ],
   "outputs": []
  },
  {
   "metadata": {},
   "cell_type": "code",
   "execution_count": null,
   "source": [
    "data=tmodel.get_demo_data()\n",
    "signals = data['signals']\n",
    "T: np.ndarray = data['times'][signal_index]\n",
    "X: np.ndarray = tmodel.get_features( T, feature_type, args )\n",
    "Y: np.ndarray = signals[signal_index]"
   ],
   "id": "7c5746f77c242da4",
   "outputs": []
  },
  {
   "metadata": {},
   "cell_type": "code",
   "outputs": [],
   "execution_count": null,
   "source": [
    "ffig, pax = plt.subplots( figsize=(22,8) )\n",
    "nf = X.shape[-1]\n",
    "pax.set_title( f'Features (type {feature_type}): Nf={nf}   ' )\n",
    "plot: plt.Line2D =  pax.plot( T[:], X[:,0], label=f'Feature {0}')[0]\n",
    "\n",
    "ffig.subplots_adjust(bottom=0.25)\n",
    "sax = ffig.add_axes([0.25, 0.1, 0.65, 0.03])\n",
    "widget = Slider( ax=sax, label=\"Feature\", valmin=0, valmax=nf, valinit=0, valstep=1 )\n",
    "\n",
    "def update(val):\n",
    "    iF = int(widget.val)\n",
    "    plot.set_ydata(X[:,iF])\n",
    "    ffig.canvas.draw_idle()\n",
    "\n",
    "widget.on_changed(update)\n",
    "ffig.legend()\n",
    "plt.show()"
   ],
   "id": "349f1c0e2db28099"
  }
 ],
 "metadata": {
  "kernelspec": {
   "display_name": "Python 3",
   "language": "python",
   "name": "python3"
  },
  "language_info": {
   "codemirror_mode": {
    "name": "ipython",
    "version": 2
   },
   "file_extension": ".py",
   "mimetype": "text/x-python",
   "name": "python",
   "nbconvert_exporter": "python",
   "pygments_lexer": "ipython2",
   "version": "2.7.6"
  }
 },
 "nbformat": 4,
 "nbformat_minor": 5
}
