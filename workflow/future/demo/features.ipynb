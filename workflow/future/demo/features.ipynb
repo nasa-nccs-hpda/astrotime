{
 "cells": [
  {
   "cell_type": "code",
   "execution_count": null,
   "id": "initial_id",
   "metadata": {
    "collapsed": true
   },
   "outputs": [],
   "source": [
    "%matplotlib widget\n",
    "import math, numpy as np\n",
    "import matplotlib.pyplot as plt\n",
    "import tensorflow as tf\n",
    "from tensorflow.keras.callbacks import ModelCheckpoint\n",
    "from tensorflow.keras.optimizers import Adam\n",
    "import model\n",
    "tf.config.set_visible_devices([], 'GPU')             # disable GPU for this notebook\n",
    "\n",
    "signal_index=2\n",
    "feature_type=0\n",
    "\n",
    "data = model.get_demo_data()\n",
    "T: np.ndarray = data['times']\n",
    "\n",
    "F: np.ndarray = model.get_features( T[signal_index], feature_type )\n",
    "print( F.shape )"
   ]
  }
 ],
 "metadata": {
  "kernelspec": {
   "display_name": "Python 3",
   "language": "python",
   "name": "python3"
  },
  "language_info": {
   "codemirror_mode": {
    "name": "ipython",
    "version": 2
   },
   "file_extension": ".py",
   "mimetype": "text/x-python",
   "name": "python",
   "nbconvert_exporter": "python",
   "pygments_lexer": "ipython2",
   "version": "2.7.6"
  }
 },
 "nbformat": 4,
 "nbformat_minor": 5
}
