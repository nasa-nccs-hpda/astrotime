{
 "cells": [
  {
   "cell_type": "code",
   "execution_count": null,
   "id": "initial_id",
   "metadata": {
    "collapsed": true
   },
   "outputs": [],
   "source": [
    "%matplotlib widget\n",
    "import math, numpy as np\n",
    "from typing import List, Tuple, Mapping\n",
    "from matplotlib.widgets import Slider\n",
    "import matplotlib.pyplot as plt\n",
    "import tensorflow as tf\n",
    "from tensorflow.keras.callbacks import ModelCheckpoint\n",
    "from tensorflow.keras.optimizers import Adam\n",
    "import tmodel\n",
    "tf.config.set_visible_devices([], 'GPU')             # disable GPU for this notebook\n",
    "\n",
    "feature_type     = 0\n",
    "data: np.ndarray = tmodel.get_demo_data()\n",
    "T: np.ndarray    = data['times'][0]\n",
    "F: np.ndarray    = tmodel.get_features( T, feature_type )"
   ]
  },
  {
   "metadata": {},
   "cell_type": "code",
   "outputs": [],
   "execution_count": null,
   "source": [
    "fig = plt.figure( figsize=(24,16) )\n",
    "pax = fig.add_axes([0.0, 0.1, 1.0, 0.9])\n",
    "sax = fig.add_axes([0.0, 0.05, 1.0, 0.04])\n",
    "pax.set_title( f'Time Features (Type {feature_type})' )\n",
    "\n",
    "plots: List[plt.Line2D] = []\n",
    "tmax = int(T.shape[0]*0.5)\n",
    "for iF in range(F.shape[1]):\n",
    "    plots.append( pax.plot( T[:tmax], F[:tmax,iF], label=f'Feature {iF}' )[0] )\n",
    "\n",
    "widget = Slider( sax, \"Feature\", 0, F.shape[1], valinit=0, valstep=1 )\n",
    "widget.on_changed( lambda sval: tmodel.select_feature(plots,sval) )\n",
    "\n",
    "fig.legend()\n",
    "tmodel.select_feature(plots,0)\n",
    "plt.show()"
   ],
   "id": "a16f73f7a9a0451b"
  }
 ],
 "metadata": {
  "kernelspec": {
   "display_name": "Python 3",
   "language": "python",
   "name": "python3"
  },
  "language_info": {
   "codemirror_mode": {
    "name": "ipython",
    "version": 2
   },
   "file_extension": ".py",
   "mimetype": "text/x-python",
   "name": "python",
   "nbconvert_exporter": "python",
   "pygments_lexer": "ipython2",
   "version": "2.7.6"
  }
 },
 "nbformat": 4,
 "nbformat_minor": 5
}
