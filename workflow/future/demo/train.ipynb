{
 "cells": [
  {
   "cell_type": "code",
   "execution_count": null,
   "id": "675d891220f5aeae",
   "metadata": {},
   "source": [
    "%matplotlib widget\n",
    "import math, numpy as np\n",
    "from typing import List, Tuple, Mapping\n",
    "import matplotlib.pyplot as plt\n",
    "from matplotlib.widgets import Slider\n",
    "import tensorflow as tf\n",
    "from tensorflow.keras.callbacks import ModelCheckpoint\n",
    "from tensorflow.keras.optimizers import Adam\n",
    "from argparse import Namespace\n",
    "import tmodel\n",
    "tf.config.set_visible_devices([], 'GPU')             # disable GPU for this notebook\n",
    "\n",
    "args: Namespace = tmodel.load_args()\n",
    "signal_index=args.signal\n",
    "expt_index=args.experiment\n",
    "nepochs=args.nepochs\n",
    "nfeatures=args.nfeatures\n",
    "batch_size=args.batch_size\n",
    "learning_rate=args.learning_rate\n",
    "\n",
    "data = tmodel.get_demo_data()\n",
    "signals = data['signals']\n",
    "times = data['times']\n",
    "ckp_file = tmodel.get_ckp_file( expt_index, signal_index )\n",
    "\n",
    "X: np.ndarray = tmodel.get_features( times[signal_index], expt_index, nfeatures )\n",
    "Y: np.ndarray = signals[signal_index]\n",
    "T: np.ndarray = times[signal_index]\n",
    "validation_split: int = int(0.8*X.shape[0])\n",
    "\n",
    "Xtrain=X[:validation_split]\n",
    "Xval=X[validation_split:]\n",
    "Ytrain=Y[:validation_split]\n",
    "Yval=Y[validation_split:]"
   ],
   "outputs": []
  },
  {
   "metadata": {},
   "cell_type": "code",
   "execution_count": null,
   "source": [
    "small_model = tmodel.create_small_model(X.shape[1],0.5)\n",
    "small_model.compile(optimizer=Adam(learning_rate=learning_rate), loss='mae')"
   ],
   "id": "7d10d2c6bf70861f",
   "outputs": []
  },
  {
   "metadata": {},
   "cell_type": "code",
   "outputs": [],
   "execution_count": null,
   "source": [
    "small_model.load_weights( ckp_file )\n",
    "print( f\"Loaded checkpoint from '{ckp_file}'\")\n",
    "p0: np.ndarray = small_model.predict(Xtrain,batch_size=batch_size)\n",
    "p1: np.ndarray = small_model.predict(Xval,batch_size=batch_size)"
   ],
   "id": "30ba0bd8285a9e96"
  },
  {
   "metadata": {},
   "cell_type": "code",
   "outputs": [],
   "execution_count": null,
   "source": [
    "plt.figure(figsize=(15,5))\n",
    "plt.plot(T,Y,label='truth')\n",
    "plt.plot(T[:validation_split],p0[:,0],label='train prediction')\n",
    "plt.plot(T[validation_split:],p1[:,0],label='val prediction')\n",
    "plt.title(f'Signal {signal_index} (e-{expt_index}): nfeatures={nfeatures}')\n",
    "plt.legend()\n",
    "plt.tight_layout()\n",
    "plt.show()"
   ],
   "id": "75d7327c9ccbf7ed"
  },
  {
   "metadata": {},
   "cell_type": "code",
   "outputs": [],
   "execution_count": null,
   "source": [
    "fig = plt.figure( figsize=(22,8) )\n",
    "pax = fig.add_axes([0.0, 0.1, 1.0, 0.9])\n",
    "sax = fig.add_axes([0.0, 0.05, 0.8, 0.04])\n",
    "pax.set_title( f'Features (type {expt_index}): Nf={nfeatures}' )\n",
    "\n",
    "plots: List[plt.Line2D] = []\n",
    "for iF in range( X.shape[1] ):\n",
    "    plots.append( pax.plot( T[:], X[:,iF], label=f'Feature {iF}', alpha=tmodel.alpha(iF,0) )[0] )\n",
    "\n",
    "widget = Slider( sax, \"Feature\", 0, len(plots), valinit=0, valstep=1 )\n",
    "widget.on_changed( lambda sval: tmodel.select_feature(plots,fig,sval) )\n",
    "\n",
    "fig.legend()"
   ],
   "id": "fa848cccc4b76cf0"
  }
 ],
 "metadata": {
  "kernelspec": {
   "display_name": "Python 3",
   "language": "python",
   "name": "python3"
  },
  "language_info": {
   "codemirror_mode": {
    "name": "ipython",
    "version": 2
   },
   "file_extension": ".py",
   "mimetype": "text/x-python",
   "name": "python",
   "nbconvert_exporter": "python",
   "pygments_lexer": "ipython2",
   "version": "2.7.6"
  }
 },
 "nbformat": 4,
 "nbformat_minor": 5
}
