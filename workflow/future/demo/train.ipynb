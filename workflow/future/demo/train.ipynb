{
 "cells": [
  {
   "cell_type": "code",
   "execution_count": null,
   "id": "675d891220f5aeae",
   "metadata": {},
   "source": [
    "%matplotlib widget\n",
    "import math, numpy as np\n",
    "import matplotlib.pyplot as plt\n",
    "import tensorflow as tf\n",
    "from tensorflow.keras.callbacks import ModelCheckpoint\n",
    "from tensorflow.keras.optimizers import Adam\n",
    "import tmodel\n",
    "tf.config.set_visible_devices([], 'GPU')             # disable GPU for this notebook\n",
    "\n",
    "signal_index=2\n",
    "expt_index=1\n",
    "\n",
    "data = tmodel.get_demo_data()\n",
    "signals = data['signals']\n",
    "times = data['times']\n",
    "ckp_file = tmodel.get_ckp_file( expt_index, signal_index )\n",
    "\n",
    "X: np.ndarray = tmodel.get_features( times[signal_index], expt_index )\n",
    "Y: np.ndarray = tmodel.tnorm(signals[signal_index])\n",
    "T: np.ndarray = times[signal_index]\n",
    "validation_split: int = int(0.8*X.shape[0])\n",
    "\n",
    "Xtrain=X[:validation_split]\n",
    "Xval=X[validation_split:]\n",
    "Ytrain=Y[:validation_split]\n",
    "Yval=Y[validation_split:]"
   ],
   "outputs": []
  },
  {
   "metadata": {},
   "cell_type": "code",
   "execution_count": null,
   "source": [
    "optimizer = Adam( learning_rate=0.001, name='adam' )\n",
    "tmodel = tmodel.create_small_model(X.shape[1],0.5)\n",
    "tmodel.compile(optimizer=optimizer, loss='mae')"
   ],
   "id": "7d10d2c6bf70861f",
   "outputs": []
  },
  {
   "metadata": {},
   "cell_type": "code",
   "outputs": [],
   "execution_count": null,
   "source": [
    "tmodel.load_weights( ckp_file )\n",
    "p0=tmodel.predict(Xtrain,batch_size=256)\n",
    "p1=tmodel.predict(Xval,batch_size=256)"
   ],
   "id": "30ba0bd8285a9e96"
  },
  {
   "metadata": {},
   "cell_type": "code",
   "outputs": [],
   "execution_count": null,
   "source": [
    "plt.figure(figsize=(15,5))\n",
    "plt.plot(T,Y,label='truth')\n",
    "plt.plot(T[:validation_split],p0[:,0],label='train prediction')\n",
    "plt.plot(T[validation_split:],p1[:,0],label='val prediction')\n",
    "plt.title(f'Signal {signal_index}')\n",
    "plt.legend()\n",
    "plt.tight_layout()\n",
    "plt.show()"
   ],
   "id": "75d7327c9ccbf7ed"
  }
 ],
 "metadata": {
  "kernelspec": {
   "display_name": "Python 3",
   "language": "python",
   "name": "python3"
  },
  "language_info": {
   "codemirror_mode": {
    "name": "ipython",
    "version": 2
   },
   "file_extension": ".py",
   "mimetype": "text/x-python",
   "name": "python",
   "nbconvert_exporter": "python",
   "pygments_lexer": "ipython2",
   "version": "2.7.6"
  }
 },
 "nbformat": 4,
 "nbformat_minor": 5
}
