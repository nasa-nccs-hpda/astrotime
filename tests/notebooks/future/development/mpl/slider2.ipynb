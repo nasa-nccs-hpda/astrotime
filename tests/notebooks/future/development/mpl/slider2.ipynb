{
 "cells": [
  {
   "cell_type": "code",
   "execution_count": null,
   "id": "8499cad5735f753c",
   "metadata": {},
   "outputs": [],
   "source": [
    "%matplotlib widget\n",
    "import matplotlib.pyplot as plt\n",
    "import numpy as np\n",
    "from matplotlib.widgets import RangeSlider"
   ]
  },
  {
   "metadata": {},
   "cell_type": "code",
   "outputs": [],
   "execution_count": null,
   "source": [
    "# generate a fake image\n",
    "np.random.seed(19680801)\n",
    "N = 128\n",
    "img = np.random.randn(N, N)"
   ],
   "id": "9ac8ada3e8c6eea4"
  },
  {
   "metadata": {
    "collapsed": true
   },
   "cell_type": "code",
   "outputs": [],
   "execution_count": null,
   "source": [
    "fig, axs = plt.subplots(1, 2, figsize=(10, 5))\n",
    "fig.subplots_adjust(bottom=0.25)\n",
    "\n",
    "im = axs[0].imshow(img)\n",
    "axs[1].hist(img.flatten(), bins='auto')\n",
    "axs[1].set_title('Histogram of pixel intensities')\n",
    "\n",
    "# Create the RangeSlider\n",
    "slider_ax = fig.add_axes([0.20, 0.1, 0.60, 0.03])\n",
    "slider = RangeSlider(slider_ax, \"Threshold\", img.min(), img.max())\n",
    "\n",
    "# Create the Vertical lines on the histogram\n",
    "lower_limit_line = axs[1].axvline(slider.val[0], color='k')\n",
    "upper_limit_line = axs[1].axvline(slider.val[1], color='k')\n",
    "\n",
    "\n",
    "def update(val):\n",
    "    # The val passed to a callback by the RangeSlider will\n",
    "    # be a tuple of (min, max)\n",
    "\n",
    "    # Update the image's colormap\n",
    "    im.norm.vmin = val[0]\n",
    "    im.norm.vmax = val[1]\n",
    "\n",
    "    # Update the position of the vertical lines\n",
    "    lower_limit_line.set_xdata([val[0], val[0]])\n",
    "    upper_limit_line.set_xdata([val[1], val[1]])\n",
    "\n",
    "    # Redraw the figure to ensure it updates\n",
    "    fig.canvas.draw_idle()\n",
    "\n",
    "\n",
    "slider.on_changed(update)\n",
    "plt.show()"
   ],
   "id": "initial_id"
  }
 ],
 "metadata": {
  "kernelspec": {
   "display_name": "Python 3",
   "language": "python",
   "name": "python3"
  },
  "language_info": {
   "codemirror_mode": {
    "name": "ipython",
    "version": 2
   },
   "file_extension": ".py",
   "mimetype": "text/x-python",
   "name": "python",
   "nbconvert_exporter": "python",
   "pygments_lexer": "ipython2",
   "version": "2.7.6"
  }
 },
 "nbformat": 4,
 "nbformat_minor": 5
}
