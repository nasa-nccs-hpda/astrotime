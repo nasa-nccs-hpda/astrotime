{
 "cells": [
  {
   "metadata": {},
   "cell_type": "code",
   "outputs": [],
   "execution_count": null,
   "source": [
    "\n",
    "%matplotlib widget\n",
    "%load_ext autoreload\n",
    "%autoreload 2\n",
    "\n",
    "import numpy as np\n",
    "import xarray as xa\n",
    "from typing import List, Optional, Dict, Type, Any\n",
    "from astrotime.loaders.sinusoid import ncSinusoidLoader\n",
    "from astrotime.encoders.wavelet import WaveletAnalysisLayer, embedding_space\n",
    "from astrotime.encoders.baseline import ValueEncoder\n",
    "from astrotime.plot.data import SignalDataPlot\n",
    "from astrotime.config.context import astrotime_initialize\n",
    "from astrotime.plot.base import SignalPlotFigure\n",
    "import logging, torch\n",
    "from torch import Tensor, device\n",
    "from hydra import initialize, compose"
   ],
   "id": "7433740421e99ab5"
  },
  {
   "metadata": {},
   "cell_type": "code",
   "outputs": [],
   "execution_count": null,
   "source": [
    "version=\"sinusoid_period.wwz\"\n",
    "overrides = []\n",
    "initialize(version_base=None, config_path=\"../../../../config\")\n",
    "cfg = compose( config_name=version, overrides=overrides )\n",
    "device: device = astrotime_initialize(cfg,version)\n",
    "fspace: Tensor = embedding_space( cfg.transform, device )[1]\n",
    "dset_id = 9"
   ],
   "id": "832bcaf0b8747018"
  },
  {
   "metadata": {},
   "cell_type": "code",
   "outputs": [],
   "execution_count": null,
   "source": [
    "sinusoid_loader = ncSinusoidLoader( cfg.data )\n",
    "encoder = ValueEncoder( cfg.transform, device )\n",
    "embedding = WaveletAnalysisLayer( cfg.transform, fspace, device)\n",
    "\n",
    "xdset: xa.Dataset = sinusoid_loader.get_dataset(dset_id)\n",
    "target: np.ndarray = xdset['p'].values\n",
    "dset = dict( y=xdset['y'].values, x=xdset['t'].values )\n",
    "X, Y = encoder.encode_dset( dset )"
   ],
   "id": "4da930be803cf780"
  },
  {
   "metadata": {
    "collapsed": true
   },
   "cell_type": "code",
   "outputs": [],
   "execution_count": null,
   "source": [
    "tplot = SignalDataPlot(\"Wavelet Transform\", X, Y, target)\n",
    "fig = SignalPlotFigure([tplot])\n",
    "fig.show()"
   ],
   "id": "initial_id"
  }
 ],
 "metadata": {
  "kernelspec": {
   "display_name": "Python 3",
   "language": "python",
   "name": "python3"
  },
  "language_info": {
   "codemirror_mode": {
    "name": "ipython",
    "version": 2
   },
   "file_extension": ".py",
   "mimetype": "text/x-python",
   "name": "python",
   "nbconvert_exporter": "python",
   "pygments_lexer": "ipython2",
   "version": "2.7.6"
  }
 },
 "nbformat": 4,
 "nbformat_minor": 5
}
