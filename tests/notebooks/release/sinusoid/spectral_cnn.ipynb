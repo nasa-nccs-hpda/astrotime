{
 "cells": [
  {
   "metadata": {},
   "cell_type": "code",
   "outputs": [],
   "execution_count": null,
   "source": [
    "%matplotlib widget\n",
    "from astrotime.plot.analysis import RawDatasetPlot\n",
    "from astrotime.loaders.sinusoid import SinusoidElementLoader\n",
    "from astrotime.plot.analysis import EvaluatorPlot\n",
    "from astrotime.config.context import astrotime_initialize\n",
    "from astrotime.plot.base import SignalPlotFigure\n",
    "from astrotime.trainers.model_evaluator import ModelEvaluator\n",
    "import torch\n",
    "from astrotime.util.series import TSet\n",
    "from hydra import initialize, compose\n",
    "\n",
    "version = \"sinusoid_period\"\n",
    "mtype = \"cnn\""
   ],
   "id": "7433740421e99ab5"
  },
  {
   "metadata": {},
   "cell_type": "code",
   "outputs": [],
   "execution_count": null,
   "source": [
    "overrides = [ 'platform.gpu=-1', 'data.batch_size=1' ]\n",
    "initialize(version_base=None, config_path=\"../../../../config\")\n",
    "cfg = compose( config_name=version, overrides=overrides )\n",
    "device: torch.device = astrotime_initialize(cfg,version+\".plot\")"
   ],
   "id": "c57c7d4042e20ac3"
  },
  {
   "metadata": {},
   "cell_type": "markdown",
   "source": "Documentation\n",
   "id": "ca69c7affd2095af"
  },
  {
   "metadata": {},
   "cell_type": "code",
   "outputs": [],
   "execution_count": null,
   "source": [
    "data_loader = SinusoidElementLoader( cfg.data, TSet.Train )\n",
    "dplot = RawDatasetPlot(f\"{version}: Lightcurves\", data_loader )\n",
    "\n",
    "evaluator = ModelEvaluator( cfg, version, data_loader, device, mtype=mtype )\n",
    "wplot = EvaluatorPlot(f\"Lightcurve Period Analysis, model=spectral_{mtype}\", evaluator )\n",
    "\n",
    "fig = SignalPlotFigure([dplot,wplot])\n"
   ],
   "id": "2c78cf8703a03506"
  }
 ],
 "metadata": {
  "kernelspec": {
   "display_name": "Python 3",
   "language": "python",
   "name": "python3"
  },
  "language_info": {
   "codemirror_mode": {
    "name": "ipython",
    "version": 2
   },
   "file_extension": ".py",
   "mimetype": "text/x-python",
   "name": "python",
   "nbconvert_exporter": "python",
   "pygments_lexer": "ipython2",
   "version": "2.7.6"
  }
 },
 "nbformat": 4,
 "nbformat_minor": 5
}
