{
 "cells": [
  {
   "metadata": {},
   "cell_type": "code",
   "outputs": [],
   "execution_count": null,
   "source": [
    "\n",
    "%matplotlib widget\n",
    "%load_ext autoreload\n",
    "%autoreload 2\n",
    "\n",
    "import numpy as np\n",
    "import xarray as xa\n",
    "from typing import List, Optional, Dict, Type, Any\n",
    "from astrotime.loaders.sinusoid import ncSinusoidLoader\n",
    "from astrotime.encoders.wavelet import WaveletEmbeddingLayer\n",
    "from astrotime.encoders.baseline import ValueEncoder\n",
    "from astrotime.plot.data import SignalPlot\n",
    "from astrotime.config.context import astrotime_initialize\n",
    "from astrotime.plot.base import SignalPlotFigure\n",
    "import logging, torch\n",
    "from hydra import initialize, compose"
   ],
   "id": "7433740421e99ab5"
  },
  {
   "metadata": {},
   "cell_type": "code",
   "outputs": [],
   "execution_count": null,
   "source": [
    "config_name=\"sinusoid_period.wwz\"\n",
    "overrides = []"
   ],
   "id": "c57c7d4042e20ac3"
  },
  {
   "metadata": {},
   "cell_type": "code",
   "outputs": [],
   "execution_count": null,
   "source": [
    "initialize(version_base=None, config_path=\"../config\" )\n",
    "cfg = compose( config_name=config_name, overrides=overrides )\n",
    "log = logging.getLogger(\"astrotime\")\n",
    "device: torch.device = astrotime_initialize(cfg)\n",
    "dset_id = 9"
   ],
   "id": "832bcaf0b8747018"
  },
  {
   "metadata": {},
   "cell_type": "code",
   "outputs": [],
   "execution_count": null,
   "source": [
    "sinusoid_loader = ncSinusoidLoader( cfg.data )\n",
    "encoder = ValueEncoder( cfg.transform, device )\n",
    "embedding = WaveletEmbeddingLayer( cfg.transform, device)\n",
    "\n",
    "xdset: xa.Dataset = sinusoid_loader.get_dataset(dset_id)\n",
    "target: np.ndarray = xdset['p'].values\n",
    "dset = dict( y=xdset['y'].values, x=xdset['t'].values )\n",
    "X, Y = encoder.encode_dset( dset )"
   ],
   "id": "4da930be803cf780"
  },
  {
   "metadata": {
    "collapsed": true
   },
   "cell_type": "code",
   "outputs": [],
   "execution_count": null,
   "source": [
    "tplot = SignalPlot(\"Wavelet Transform\", X, Y, target)\n",
    "fig = SignalPlotFigure([tplot])\n",
    "fig.show()"
   ],
   "id": "initial_id"
  }
 ],
 "metadata": {
  "kernelspec": {
   "display_name": "Python 3",
   "language": "python",
   "name": "python3"
  },
  "language_info": {
   "codemirror_mode": {
    "name": "ipython",
    "version": 2
   },
   "file_extension": ".py",
   "mimetype": "text/x-python",
   "name": "python",
   "nbconvert_exporter": "python",
   "pygments_lexer": "ipython2",
   "version": "2.7.6"
  }
 },
 "nbformat": 4,
 "nbformat_minor": 5
}
