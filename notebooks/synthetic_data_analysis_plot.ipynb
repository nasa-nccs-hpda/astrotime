{
 "cells": [
  {
   "metadata": {},
   "cell_type": "code",
   "outputs": [],
   "execution_count": null,
   "source": [
    "%matplotlib widget\n",
    "from astrotime.util.series import TSet\n",
    "from astrotime.loaders.synthetic import SyntheticLoader\n",
    "from astrotime.encoders.wavelet import WaveletAnalysisLayer, embedding_space\n",
    "from astrotime.plot.analysis import DatasetPlot, EvaluatorPlot\n",
    "from astrotime.config.context import astrotime_initialize\n",
    "from astrotime.plot.base import SignalPlotFigure\n",
    "from astrotime.trainers.model_evaluator import ModelEvaluator\n",
    "import torch\n",
    "from hydra import initialize, compose"
   ],
   "id": "7433740421e99ab5"
  },
  {
   "metadata": {},
   "cell_type": "code",
   "outputs": [],
   "execution_count": null,
   "source": [
    "version = \"synthetic_period\"\n",
    "overrides = []\n",
    "initialize(version_base=None, config_path=\"../config\" )\n",
    "cfg = compose( config_name=version, overrides=overrides )\n",
    "device: torch.device = astrotime_initialize(cfg,version+\".plot\")\n",
    "cfg.platform['gpu'] = -1"
   ],
   "id": "c57c7d4042e20ac3"
  },
  {
   "metadata": {},
   "cell_type": "markdown",
   "source": "",
   "id": "ca69c7affd2095af"
  },
  {
   "metadata": {},
   "cell_type": "code",
   "outputs": [],
   "execution_count": null,
   "source": [
    "data_loader = SyntheticLoader( cfg.data )\n",
    "data_loader.initialize( TSet.Train )\n",
    "embedding_space_array, embedding_space_tensor = embedding_space( cfg.transform, device )\n",
    "\n",
    "dplot = DatasetPlot(f\"{version}: Lightcurves\", data_loader )\n",
    "embedding = WaveletAnalysisLayer( 'analysis', cfg.transform, embedding_space_tensor, device )\n",
    "evaluator = ModelEvaluator( cfg, version, data_loader, embedding, device )\n",
    "wplot = EvaluatorPlot(\"WWAnalysis Transform\", evaluator )\n",
    "\n",
    "fig = SignalPlotFigure([dplot,wplot])\n",
    "fig.show()"
   ],
   "id": "2c78cf8703a03506"
  }
 ],
 "metadata": {
  "kernelspec": {
   "display_name": "Python 3",
   "language": "python",
   "name": "python3"
  },
  "language_info": {
   "codemirror_mode": {
    "name": "ipython",
    "version": 2
   },
   "file_extension": ".py",
   "mimetype": "text/x-python",
   "name": "python",
   "nbconvert_exporter": "python",
   "pygments_lexer": "ipython2",
   "version": "2.7.6"
  }
 },
 "nbformat": 4,
 "nbformat_minor": 5
}
