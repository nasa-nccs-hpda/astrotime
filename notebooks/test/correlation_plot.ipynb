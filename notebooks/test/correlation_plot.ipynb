{
 "cells": [
  {
   "cell_type": "code",
   "execution_count": null,
   "id": "a084787583f62f1f",
   "metadata": {},
   "outputs": [],
   "source": [
    "%matplotlib widget\n",
    "from astrotime.util.series import TSet\n",
    "from astrotime.loaders.MIT import MITOctavesLoader\n",
    "from astrotime.encoders.octaves import embedding_space\n",
    "from astrotime.plot.MIT import MITDatasetPlot, MITTransformPlot\n",
    "from astrotime.config.context import astrotime_initialize\n",
    "import torch\n",
    "from hydra import initialize, compose\n",
    "\n",
    "version = \"MIT_period.octaves\"\n",
    "overrides = []\n",
    "initialize(version_base=None, config_path=\"../config\")\n",
    "cfg = compose(config_name=version, overrides=overrides)\n",
    "device: torch.device = astrotime_initialize(cfg, version)\n",
    "sector = cfg.data.sector_range[0]\n",
    "refresh = True"
   ]
  },
  {
   "metadata": {},
   "cell_type": "code",
   "outputs": [],
   "execution_count": null,
   "source": [
    "data_loader = MITOctavesLoader(cfg.data)\n",
    "data_loader.initialize(TSet.Train)\n",
    "plot_freq_space, embedding_space_tensor = embedding_space(cfg.transform, device)\n",
    "dplot = MITDatasetPlot(\"MIT lightcurves\", data_loader, sector )"
   ],
   "id": "e0a73a618f51df9b"
  },
  {
   "metadata": {
    "collapsed": true
   },
   "cell_type": "code",
   "outputs": [],
   "execution_count": null,
   "source": [
    "t,y,p = dplot.get_element_data()\n",
    "trange = t.max() - t.min()\n",
    "print( f\"t{t.shape} range={trange}\" )\n",
    "nt = t.shape[0]"
   ],
   "id": "initial_id"
  }
 ],
 "metadata": {
  "kernelspec": {
   "display_name": "Python 3",
   "language": "python",
   "name": "python3"
  },
  "language_info": {
   "codemirror_mode": {
    "name": "ipython",
    "version": 2
   },
   "file_extension": ".py",
   "mimetype": "text/x-python",
   "name": "python",
   "nbconvert_exporter": "python",
   "pygments_lexer": "ipython2",
   "version": "2.7.6"
  }
 },
 "nbformat": 4,
 "nbformat_minor": 5
}
