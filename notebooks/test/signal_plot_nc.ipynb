{
 "cells": [
  {
   "metadata": {},
   "cell_type": "code",
   "outputs": [],
   "execution_count": null,
   "source": [
    "%matplotlib widget\n",
    "%load_ext autoreload\n",
    "%autoreload 2\n",
    "\n",
    "import numpy as np\n",
    "import xarray as xa\n",
    "from typing import List, Optional, Dict, Type, Any\n",
    "from astrotime.loaders.sinusoid import ncSinusoidLoader\n",
    "from astrotime.plot.data import SignalDataPlot\n",
    "from astrotime.config.context import astrotime_initialize\n",
    "from astrotime.plot.base import SignalPlotFigure\n",
    "from astrotime.util.math import npnorm, nan_mask\n",
    "import torch, logging\n",
    "from hydra import initialize, compose"
   ],
   "id": "7433740421e99ab5"
  },
  {
   "metadata": {},
   "cell_type": "code",
   "outputs": [],
   "execution_count": null,
   "source": [
    "version=\"sinusoid_period.wwz\"\n",
    "overrides = []\n",
    "initialize(version_base=None, config_path=\"../../config\")\n",
    "cfg = compose( config_name=version, overrides=overrides )\n",
    "device: torch.device = astrotime_initialize(cfg,version+\".plot\")\n",
    "file_idx = 9"
   ],
   "id": "c57c7d4042e20ac3"
  },
  {
   "metadata": {},
   "cell_type": "code",
   "outputs": [],
   "execution_count": null,
   "source": [
    "sinusoid_loader = ncSinusoidLoader( cfg.data )\n",
    "xdset: xa.Dataset = sinusoid_loader.get_dataset( file_idx )\n",
    "y: np.ndarray = xdset['y'].values\n",
    "t: np.ndarray = xdset['t'].values"
   ],
   "id": "4da930be803cf780"
  },
  {
   "metadata": {
    "collapsed": true
   },
   "cell_type": "code",
   "outputs": [],
   "execution_count": null,
   "source": [
    "splot = SignalDataPlot(\"Sinusoid\", t, y )\n",
    "fig = SignalPlotFigure([splot])\n",
    "fig.show()"
   ],
   "id": "initial_id"
  }
 ],
 "metadata": {
  "kernelspec": {
   "display_name": "Python 3",
   "language": "python",
   "name": "python3"
  },
  "language_info": {
   "codemirror_mode": {
    "name": "ipython",
    "version": 2
   },
   "file_extension": ".py",
   "mimetype": "text/x-python",
   "name": "python",
   "nbconvert_exporter": "python",
   "pygments_lexer": "ipython2",
   "version": "2.7.6"
  }
 },
 "nbformat": 4,
 "nbformat_minor": 5
}
