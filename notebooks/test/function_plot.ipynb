{
 "cells": [
  {
   "cell_type": "code",
   "execution_count": null,
   "id": "initial_id",
   "metadata": {
    "collapsed": true
   },
   "outputs": [],
   "source": [
    "%matplotlib widget\n",
    "from typing import List, Optional, Dict, Type, Union, Tuple\n",
    "from astrotime.plot.functions import FunctionPlot\n",
    "import numpy as np"
   ]
  },
  {
   "metadata": {},
   "cell_type": "code",
   "outputs": [],
   "execution_count": null,
   "source": [
    "domain: List[int] = [-1,1]\n",
    "def function(x): 2-np.cos(x)\n",
    "\n",
    "function_plot = FunctionPlot( 'cos', function, bounds=\"domain\")\n",
    "function_plot.setup( domain )"
   ],
   "id": "c78e2009ffea6cb5"
  },
  {
   "metadata": {},
   "cell_type": "code",
   "outputs": [],
   "execution_count": null,
   "source": "function_plot.show()",
   "id": "62939d04574bec9b"
  }
 ],
 "metadata": {
  "kernelspec": {
   "display_name": "Python 3",
   "language": "python",
   "name": "python3"
  },
  "language_info": {
   "codemirror_mode": {
    "name": "ipython",
    "version": 2
   },
   "file_extension": ".py",
   "mimetype": "text/x-python",
   "name": "python",
   "nbconvert_exporter": "python",
   "pygments_lexer": "ipython2",
   "version": "2.7.6"
  }
 },
 "nbformat": 4,
 "nbformat_minor": 5
}
