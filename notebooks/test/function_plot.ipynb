{
 "cells": [
  {
   "cell_type": "code",
   "execution_count": null,
   "id": "initial_id",
   "metadata": {
    "collapsed": true
   },
   "outputs": [],
   "source": [
    "%matplotlib widget\n",
    "from typing import List, Optional, Dict, Type, Union, Tuple\n",
    "from astrotime.plot.functions import FunctionPlot\n",
    "import numpy as np\n",
    "import matplotlib.pyplot as plt"
   ]
  },
  {
   "metadata": {},
   "cell_type": "code",
   "outputs": [],
   "execution_count": null,
   "source": [
    "domain = (-1,1)\n",
    "figsize = (8, 4)\n",
    "a = 20.0\n",
    "h = 0.5\n",
    "\n",
    "def g( x: np.ndarray, tau: float ) -> np.ndarray:\n",
    "\treturn h*np.exp(-(a*(x-tau))**2)\n",
    "\n",
    "def s( x: np.ndarray, phase: float, period: float ):\n",
    "\treturn h*np.exp(-(a*x)**2)\n",
    "\n",
    "def f( x ):\n",
    "    return 1 - g(x)\n",
    "\n",
    "function_plot = FunctionPlot( 'exp', f, domain=domain )\n",
    "with plt.ioff():\n",
    "    figure, ax = plt.subplots( 1, 1, figsize=figsize )\n",
    "    function_plot.initialize( ax )"
   ],
   "id": "c78e2009ffea6cb5"
  },
  {
   "metadata": {},
   "cell_type": "code",
   "outputs": [],
   "execution_count": null,
   "source": "plt.show()",
   "id": "62939d04574bec9b"
  }
 ],
 "metadata": {
  "kernelspec": {
   "display_name": "Python 3",
   "language": "python",
   "name": "python3"
  },
  "language_info": {
   "codemirror_mode": {
    "name": "ipython",
    "version": 2
   },
   "file_extension": ".py",
   "mimetype": "text/x-python",
   "name": "python",
   "nbconvert_exporter": "python",
   "pygments_lexer": "ipython2",
   "version": "2.7.6"
  }
 },
 "nbformat": 4,
 "nbformat_minor": 5
}
