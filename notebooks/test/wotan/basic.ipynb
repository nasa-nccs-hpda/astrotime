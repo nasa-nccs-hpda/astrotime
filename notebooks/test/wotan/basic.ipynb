{
 "cells": [
  {
   "cell_type": "code",
   "execution_count": null,
   "id": "initial_id",
   "metadata": {
    "collapsed": true
   },
   "outputs": [],
   "source": [
    "%matplotlib ipympl\n",
    "import matplotlib.pyplot as plt\n",
    "import numpy as np\n",
    "from astrotime.encoders.wotan.flatten import flatten\n",
    "\n",
    "points = 1000\n",
    "time = np.linspace(0, 15, points)\n",
    "flux = 1 + ((np.sin(time) +  + time / 10 + time**1.5 / 100) / 1000)\n",
    "noise = np.random.normal(0, 0.0001, points)\n",
    "flux += noise\n",
    "for i in range(points):\n",
    "    if i % 75 == 0:\n",
    "        flux[i:i+5] -= 0.0004  # Add some transits\n",
    "        flux[i+50:i+52] += 0.0002  # and flares\n",
    "flux[400:500] = np.nan  # a data gap"
   ]
  },
  {
   "metadata": {},
   "cell_type": "code",
   "outputs": [],
   "execution_count": null,
   "source": "time, flux, flatten_lc, trend_lc = flatten( time, flux, window_length=0.5 )",
   "id": "388777f172cb7adf"
  },
  {
   "metadata": {},
   "cell_type": "code",
   "outputs": [],
   "execution_count": null,
   "source": [
    "fig, ax = plt.subplots(1, 1, figsize=(12, 8))\n",
    "ax.scatter(time, flux, s=1, color='black')\n",
    "ax.plot(time, trend_lc, linewidth=2, color='red')\n",
    "ax.set_xlabel('Time (days)')\n",
    "ax.set_ylabel('Raw flux')\n",
    "ax.set_xlim(0, 15)\n",
    "ax.set_ylim(0.999, 1.0035)\n",
    "plt.show()"
   ],
   "id": "6d6e911d617bf415"
  }
 ],
 "metadata": {
  "kernelspec": {
   "display_name": "Python 3",
   "language": "python",
   "name": "python3"
  },
  "language_info": {
   "codemirror_mode": {
    "name": "ipython",
    "version": 2
   },
   "file_extension": ".py",
   "mimetype": "text/x-python",
   "name": "python",
   "nbconvert_exporter": "python",
   "pygments_lexer": "ipython2",
   "version": "2.7.6"
  }
 },
 "nbformat": 4,
 "nbformat_minor": 5
}
