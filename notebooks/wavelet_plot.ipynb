{
 "cells": [
  {
   "metadata": {},
   "cell_type": "code",
   "outputs": [],
   "execution_count": null,
   "source": [
    "%matplotlib widget\n",
    "import numpy as np\n",
    "from typing import List, Optional, Dict, Type, Any\n",
    "from astrotime.loaders.sinusoid import SinusoidLoader\n",
    "from astrotime.encoders.wavelet import WaveletEncoder\n",
    "from astrotime.plot.data import SignalTransformPlot\n",
    "from argparse import Namespace\n",
    "from astrotime.util.env import default_cpu_clargs, get_device\n",
    "from astrotime.plot.base import SignalPlotFigure"
   ],
   "id": "2c60273343270f48"
  },
  {
   "metadata": {},
   "cell_type": "code",
   "outputs": [],
   "execution_count": null,
   "source": [
    "clargs: Namespace = default_cpu_clargs()\n",
    "ccustom = {}\n",
    "device = get_device(clargs)\n",
    "data_dir = \"/explore/nobackup/projects/ilab/data/astro_sigproc/sinusoids/npz/\"\n",
    "results_dir = \"/explore/nobackup/projects/ilab/data/astro_sigproc/results\"\n",
    "seq_length = 1000\n",
    "nfeatures=5\n",
    "dset_idx = 0"
   ],
   "id": "62d6747ba1135725"
  },
  {
   "metadata": {},
   "cell_type": "code",
   "outputs": [],
   "execution_count": null,
   "source": [
    "sinusoid_loader = SinusoidLoader(data_dir)\n",
    "encoder = WaveletEncoder(device)\n",
    "\n",
    "dset: Dict = sinusoid_loader.get_dataset(dset_idx)\n",
    "X, Y = encoder.encode_dset(dset)\n",
    "target: np.ndarray  = dset['target']"
   ],
   "id": "440e509bc8a2162b"
  },
  {
   "metadata": {},
   "cell_type": "code",
   "outputs": [],
   "execution_count": null,
   "source": [
    "tplot = SignalTransformPlot( \"Wavelet Transform\", X.numpy(), Y.numpy(), target )\n",
    "fig = SignalPlotFigure([tplot])\n",
    "fig.show()"
   ],
   "id": "bc3f834b00d97a42"
  }
 ],
 "metadata": {
  "kernelspec": {
   "display_name": "Python 3",
   "language": "python",
   "name": "python3"
  },
  "language_info": {
   "codemirror_mode": {
    "name": "ipython",
    "version": 2
   },
   "file_extension": ".py",
   "mimetype": "text/x-python",
   "name": "python",
   "nbconvert_exporter": "python",
   "pygments_lexer": "ipython2",
   "version": "2.7.6"
  }
 },
 "nbformat": 4,
 "nbformat_minor": 5
}
