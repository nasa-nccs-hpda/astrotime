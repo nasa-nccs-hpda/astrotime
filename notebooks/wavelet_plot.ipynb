{
 "cells": [
  {
   "cell_type": "code",
   "execution_count": null,
   "id": "9b1c65ed4a942552",
   "metadata": {},
   "outputs": [],
   "source": [
    "%matplotlib widget\n",
    "import numpy as np, tensorflow as tf\n",
    "from typing import List, Optional, Dict, Type, Any\n",
    "from astrotime.loaders.sinusoid import SinusoidLoader\n",
    "from astrotime.encoders.wavelet import WaveletEncoder\n",
    "from astrotime.plot.data import SignalTransformPlot\n",
    "from argparse import Namespace\n",
    "from astrotime.util.env import default_cpu_clargs, get_device\n",
    "from astrotime.plot.base import SignalPlotFigure\n",
    "from tensorflow.compat.v1 import logging\n",
    "from astrotime.util.logging import lgm"
   ]
  },
  {
   "metadata": {},
   "cell_type": "code",
   "outputs": [],
   "execution_count": null,
   "source": [
    "clargs: Namespace = default_cpu_clargs()\n",
    "ccustom = {}\n",
    "device = get_device(clargs)\n",
    "data_dir = \"/explore/nobackup/projects/ilab/data/astro_sigproc/sinusoids/npz/\"\n",
    "results_dir = \"/explore/nobackup/projects/ilab/data/astro_sigproc/results\"\n",
    "seq_length = 1000\n",
    "nfeatures=5\n",
    "dset_idx = 0\n",
    "log_level = logging.INFO\n",
    "lgm().init_logging( f\"{results_dir}/logging\", clargs.gpu, log_level )"
   ],
   "id": "210ae188c8e0f6e4"
  },
  {
   "metadata": {},
   "cell_type": "code",
   "outputs": [],
   "execution_count": null,
   "source": [
    "sinusoid_loader = SinusoidLoader(data_dir)\n",
    "encoder = WaveletEncoder(device)\n",
    "\n",
    "dset: Dict = sinusoid_loader.get_dataset(dset_idx)\n",
    "X, Y = encoder.encode_dset(dset)\n",
    "target: tf.Tensor  = dset['target']"
   ],
   "id": "4da930be803cf780"
  },
  {
   "metadata": {
    "collapsed": true
   },
   "cell_type": "code",
   "outputs": [],
   "execution_count": null,
   "source": [
    "tplot = SignalTransformPlot( X.numpy(), Y.numpy(), target.numpy() )\n",
    "fig = SignalPlotFigure([tplot])\n",
    "fig.show()"
   ],
   "id": "initial_id"
  }
 ],
 "metadata": {
  "kernelspec": {
   "display_name": "Python 3",
   "language": "python",
   "name": "python3"
  },
  "language_info": {
   "codemirror_mode": {
    "name": "ipython",
    "version": 2
   },
   "file_extension": ".py",
   "mimetype": "text/x-python",
   "name": "python",
   "nbconvert_exporter": "python",
   "pygments_lexer": "ipython2",
   "version": "2.7.6"
  }
 },
 "nbformat": 4,
 "nbformat_minor": 5
}
