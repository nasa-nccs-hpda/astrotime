{
 "cells": [
  {
   "cell_type": "code",
   "execution_count": null,
   "id": "9b1c65ed4a942552",
   "metadata": {},
   "outputs": [],
   "source": [
    "%matplotlib widget\n",
    "from fusion.controller.sigproc.plot.base import SignalPlotFigure\n",
    "from fusion.controller.sigproc.source.sinusoid import TrainingSinusoid\n",
    "from fusion.controller.sigproc.preprocessing import IndexRangeEncoder\n",
    "from fusion.models.sigproc.wwz import WWZKernel\n",
    "from fusion.controller.sigproc.plot.model import ModelKernelPlot\n",
    "from astrotime.util.env import default_cpu_clargs, parse_clargs\n",
    "from argparse import Namespace\n",
    "from typing import Any, Dict\n",
    "from fusion.config.context import ConfigContext"
   ]
  },
  {
   "metadata": {},
   "cell_type": "code",
   "outputs": [],
   "execution_count": null,
   "source": [
    "clargs: Namespace = default_cpu_clargs()\n",
    "cname = \"signal-analysis\"\n",
    "configuration = dict(task=\"freqid\", platform=\"explore\", training=\"wwz\", dataset=\"sinusoid\", transform=\"wwz\", model=\"wwznet\")\n",
    "ccustom: Dict[str, Any] = {'training.kernel_size': 1000}\n",
    "cc = ConfigContext.initialize(cname, configuration, clargs, ccustom)"
   ],
   "id": "210ae188c8e0f6e4"
  },
  {
   "metadata": {
    "collapsed": true
   },
   "cell_type": "code",
   "outputs": [],
   "execution_count": null,
   "source": [
    "\n",
    "signal: TrainingSinusoid = TrainingSinusoid()\n",
    "preprocessor = IndexRangeEncoder(device)\n",
    "model: WWZKernel = WWZKernel(device, dict(**cc.cfg.model, **cc.cfg.training))\n",
    "glsplot = ModelKernelPlot(signal, preprocessor, model)\n",
    "fig = SignalPlotFigure([glsplot])\n",
    "fig.show()"
   ],
   "id": "initial_id"
  }
 ],
 "metadata": {
  "kernelspec": {
   "display_name": "Python 3",
   "language": "python",
   "name": "python3"
  },
  "language_info": {
   "codemirror_mode": {
    "name": "ipython",
    "version": 2
   },
   "file_extension": ".py",
   "mimetype": "text/x-python",
   "name": "python",
   "nbconvert_exporter": "python",
   "pygments_lexer": "ipython2",
   "version": "2.7.6"
  }
 },
 "nbformat": 4,
 "nbformat_minor": 5
}
