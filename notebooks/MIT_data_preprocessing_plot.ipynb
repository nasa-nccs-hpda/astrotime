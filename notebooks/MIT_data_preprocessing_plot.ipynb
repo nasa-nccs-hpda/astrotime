{
 "cells": [
  {
   "metadata": {},
   "cell_type": "markdown",
   "source": "",
   "id": "ca69c7affd2095af"
  },
  {
   "metadata": {},
   "cell_type": "code",
   "outputs": [],
   "execution_count": null,
   "source": [
    "%matplotlib widget\n",
    "from astrotime.util.series import TSet\n",
    "from astrotime.loaders.MIT import MITOctavesLoader\n",
    "from astrotime.encoders.wotan.detrend import DetrendTransform\n",
    "from astrotime.plot.MIT import MITDatasetPlot, MITTransformPlot\n",
    "from astrotime.config.context import astrotime_initialize\n",
    "from astrotime.plot.base import SignalPlotFigure\n",
    "import torch\n",
    "from hydra import initialize, compose\n",
    "\n",
    "version = \"MIT_period.octaves\"\n",
    "overrides = []\n",
    "initialize(version_base=None, config_path=\"../config\")\n",
    "cfg = compose(config_name=version, overrides=overrides)\n",
    "cfg.platform.gpu = -1\n",
    "device: torch.device = astrotime_initialize(cfg, version)\n",
    "sector = cfg.data.sector_range[0]"
   ],
   "id": "431639d004ba6dc7"
  },
  {
   "metadata": {},
   "cell_type": "code",
   "outputs": [],
   "execution_count": null,
   "source": [
    "data_loader = MITOctavesLoader(cfg.data)\n",
    "data_loader.initialize(TSet.Train)\n",
    "\n",
    "dplot = MITDatasetPlot(\"MIT lightcurves\", data_loader, sector)\n",
    "transforms = dict(transform=DetrendTransform(cfg.transform, device))\n",
    "wplot = MITTransformPlot(\"WWAnalysis Transform\", data_loader, transforms, sector, norm=\"l2\")"
   ],
   "id": "c320e27690f64fcc"
  },
  {
   "metadata": {},
   "cell_type": "code",
   "outputs": [],
   "execution_count": null,
   "source": [
    "fig = SignalPlotFigure([dplot, wplot])\n",
    "fig.show()"
   ],
   "id": "2c78cf8703a03506"
  }
 ],
 "metadata": {
  "kernelspec": {
   "display_name": "Python 3",
   "language": "python",
   "name": "python3"
  },
  "language_info": {
   "codemirror_mode": {
    "name": "ipython",
    "version": 2
   },
   "file_extension": ".py",
   "mimetype": "text/x-python",
   "name": "python",
   "nbconvert_exporter": "python",
   "pygments_lexer": "ipython2",
   "version": "2.7.6"
  }
 },
 "nbformat": 4,
 "nbformat_minor": 5
}
