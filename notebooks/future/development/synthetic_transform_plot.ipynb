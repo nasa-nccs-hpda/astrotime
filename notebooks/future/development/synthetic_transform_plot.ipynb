{
 "cells": [
  {
   "metadata": {},
   "cell_type": "code",
   "outputs": [],
   "execution_count": null,
   "source": [
    "%matplotlib widget\n",
    "from astrotime.loaders.synthetic import SyntheticElementLoader\n",
    "from astrotime.plot.analysis import RawDatasetPlot\n",
    "from astrotime.encoders.wavelet import WaveletAnalysisLayer, embedding_space\n",
    "from astrotime.plot.analysis import TransformPlot\n",
    "from astrotime.config.context import astrotime_initialize\n",
    "from astrotime.plot.base import SignalPlotFigure\n",
    "from astrotime.encoders.wavelet import embedding_space\n",
    "from astrotime.encoders.embedding import EmbeddingLayer\n",
    "from astrotime.encoders.correlation import AutoCorrelationLayer\n",
    "import torch\n",
    "from hydra import initialize, compose"
   ],
   "id": "7433740421e99ab5"
  },
  {
   "metadata": {},
   "cell_type": "code",
   "outputs": [],
   "execution_count": null,
   "source": [
    "version = \"synthetic_period\"\n",
    "overrides = [ 'platform.gpu=-1', 'data.batch_size=1' ]\n",
    "initialize(version_base=None, config_path=\"../../../config\")\n",
    "cfg = compose( config_name=version, overrides=overrides )\n",
    "device: torch.device = astrotime_initialize(cfg,version+\".plot\")\n",
    "mtype=\"autocor\""
   ],
   "id": "c57c7d4042e20ac3"
  },
  {
   "metadata": {},
   "cell_type": "markdown",
   "source": "",
   "id": "ca69c7affd2095af"
  },
  {
   "metadata": {},
   "cell_type": "code",
   "outputs": [],
   "execution_count": null,
   "source": [
    "data_loader = SyntheticElementLoader( cfg.data )\n",
    "dplot = RawDatasetPlot(f\"{version}: Lightcurves\", data_loader )\n",
    "\n",
    "espace = embedding_space(cfg.transform, device)\n",
    "embedding: EmbeddingLayer = AutoCorrelationLayer('analysis', cfg.transform, espace[1], device)\n",
    "tplot = TransformPlot(mtype,data_loader,embedding)\n",
    "\n",
    "fig = SignalPlotFigure([dplot,tplot])\n",
    "fig.show()"
   ],
   "id": "2c78cf8703a03506"
  }
 ],
 "metadata": {
  "kernelspec": {
   "display_name": "Python 3",
   "language": "python",
   "name": "python3"
  },
  "language_info": {
   "codemirror_mode": {
    "name": "ipython",
    "version": 2
   },
   "file_extension": ".py",
   "mimetype": "text/x-python",
   "name": "python",
   "nbconvert_exporter": "python",
   "pygments_lexer": "ipython2",
   "version": "2.7.6"
  }
 },
 "nbformat": 4,
 "nbformat_minor": 5
}
