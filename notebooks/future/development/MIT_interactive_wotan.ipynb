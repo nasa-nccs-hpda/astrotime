{
 "cells": [
  {
   "cell_type": "code",
   "execution_count": 1,
   "metadata": {},
   "outputs": [],
   "source": [
    "%matplotlib ipympl\n",
    "from astrotime.encoders.wotan.flatten import flatten\n",
    "from ipywidgets import interactive\n",
    "import ipywidgets as widgets\n",
    "from astrotime.util.series import TSet\n",
    "from astrotime.loaders.MIT import MITOctavesLoader\n",
    "import matplotlib.pyplot as plt\n",
    "from astrotime.config.context import astrotime_initialize\n",
    "import torch\n",
    "from hydra import initialize, compose\n",
    "\n",
    "version = \"MIT_period.octaves\"\n",
    "overrides = []\n",
    "initialize(version_base=None, config_path=\"../../../config\")\n",
    "cfg = compose(config_name=version, overrides=overrides)\n",
    "cfg.platform.gpu = -1\n",
    "device: torch.device = astrotime_initialize(cfg, version+\".plot\")\n",
    "sector = cfg.data.sector_range[0]\n",
    "element = 100\n",
    "cfg.data['nharmonics'] = 6\n",
    "cfg.data['noctaves'] = 6"
   ]
  },
  {
   "cell_type": "code",
   "execution_count": 3,
   "metadata": {},
   "outputs": [
    {
     "name": "stdout",
     "output_type": "stream",
     "text": [
      "Loading TESS data from archive.stsci.edu...\n"
     ]
    }
   ],
   "source": [
    "data_loader = MITOctavesLoader(cfg.data)\n",
    "data_loader.initialize(TSet.Train)\n",
    "data_element = data_loader.get_dataset_element( sector, data_loader.TICS(sector)[element] )\n",
    "[time, flux] = [data_element.data_vars[k].values for k in ['time', 'y'] ]"
   ]
  },
  {
   "cell_type": "code",
   "execution_count": 4,
   "metadata": {},
   "outputs": [],
   "source": [
    "def func(method, window_length, break_tolerance, edge_cutoff='0.1', cval=5):\n",
    "    f, ax = plt.subplots(2, sharex=True, figsize=(12, 12))\n",
    "    if method == 'trim_mean' or method == 'winsorize':\n",
    "        cval /= 10  # must be a fraction >0, <0.5\n",
    "        if cval >=0.5:\n",
    "            cval = 0.49\n",
    "    time1, flux1, flatten_lc, trend_lc = flatten(\n",
    "        time,\n",
    "        flux,\n",
    "        method=method,\n",
    "        window_length=window_length,\n",
    "        edge_cutoff=edge_cutoff,\n",
    "        break_tolerance=break_tolerance,\n",
    "        cval=cval\n",
    "        )\n",
    "    ax[0].plot(time1, trend_lc, color='black', linewidth=3)\n",
    "    ax[0].scatter(time1, flux1, edgecolors='k', c='yellow', s=30)\n",
    "    ax[0].set_xlim(min(time1), max(time1))\n",
    "    ax[0].set_ylabel('Raw flux')\n",
    "    ax[1].scatter(time1, flatten_lc, edgecolors='k', c='black', s=30)\n",
    "    ax[1].set_ylim(0.995, 1.005)\n",
    "    ax[1].set_ylabel('Detrended flux')\n",
    "    plt.xlabel('Time (days)')\n",
    "    f.subplots_adjust(hspace=0)\n",
    "    plt.show();\n",
    "    return time"
   ]
  },
  {
   "cell_type": "code",
   "execution_count": 5,
   "metadata": {},
   "outputs": [
    {
     "data": {
      "application/vnd.jupyter.widget-view+json": {
       "model_id": "add201d675c5413097114d85067ad704",
       "version_major": 2,
       "version_minor": 0
      },
      "text/plain": [
       "VBox(children=(HBox(children=(interactive(children=(Dropdown(description='method', options=('biweight', 'hodge…"
      ]
     },
     "metadata": {},
     "output_type": "display_data"
    }
   ],
   "source": [
    "y1=interactive(\n",
    "    func,\n",
    "    method=[\"biweight\", \"hodges\", \"welsch\", \"andrewsinewave\", \"winsorize\"],\n",
    "    window_length=(0.1, 2, 0.1),\n",
    "    break_tolerance=(0, 1, 0.1),\n",
    "    edge_cutoff=(0, 1, 0.1),\n",
    "    cval=(1, 9, 1)\n",
    "    )\n",
    "y2=interactive(\n",
    "    func,\n",
    "    method=[\"hspline\", \"pspline\", \"rspline\"],\n",
    "    window_length=(0.1, 2, 0.1),\n",
    "    break_tolerance=(0, 1, 0.1),\n",
    "    edge_cutoff=(0, 1, 0.1),\n",
    "    cval=(1, 9, 1)\n",
    "    )\n",
    "widgets.VBox([widgets.HBox([y1, y2])])"
   ]
  }
 ],
 "metadata": {
  "kernelspec": {
   "display_name": "Python 3",
   "language": "python",
   "name": "python3"
  },
  "language_info": {
   "codemirror_mode": {
    "name": "ipython",
    "version": 3
   },
   "file_extension": ".py",
   "mimetype": "text/x-python",
   "name": "python",
   "nbconvert_exporter": "python",
   "pygments_lexer": "ipython3",
   "version": "3.7.2"
  }
 },
 "nbformat": 4,
 "nbformat_minor": 2
}
