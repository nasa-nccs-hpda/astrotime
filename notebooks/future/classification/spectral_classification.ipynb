{
 "cells": [
  {
   "metadata": {},
   "cell_type": "code",
   "outputs": [],
   "execution_count": null,
   "source": [
    "%matplotlib widget\n",
    "from astrotime.loaders.MIT import MITElementLoader\n",
    "from astrotime.encoders.spectral import SpectralProjection, embedding_space\n",
    "from astrotime.models.cnn.cnn_baseline import get_model_from_cfg\n",
    "from astrotime.plot.analysis import RawDatasetPlot\n",
    "from astrotime.plot.analysis import ClassificationEvalPlot\n",
    "from astrotime.config.context import astrotime_initialize\n",
    "from astrotime.plot.base import SignalPlotFigure\n",
    "from astrotime.trainers.octave_classification import OctaveClassificationTrainer\n",
    "from torch import nn\n",
    "from astrotime.util.series import TSet\n",
    "import torch\n",
    "from hydra import initialize, compose\n",
    "\n",
    "version = \"MIT_period_cnn.classification.octaves\""
   ],
   "id": "7433740421e99ab5"
  },
  {
   "metadata": {},
   "cell_type": "code",
   "outputs": [],
   "execution_count": null,
   "source": [
    "initialize(version_base=None, config_path=\"../../../config\")\n",
    "cfg = compose(config_name=version)\n",
    "device: torch.device = astrotime_initialize(cfg, version+\".oplot\")"
   ],
   "id": "c57c7d4042e20ac3"
  },
  {
   "metadata": {},
   "cell_type": "markdown",
   "source": [
    "## Plot Documentation\n",
    "- In the following plot, the black lines represent the target period, the green lines represent the period produced by the model, and the yellow line represents the product of the peakfinder algorithm.\n",
    "- The vertical lines in the upper plot illustrate the sizes of the periods for two cases.\n",
    "- Use the file/element sliders to chose different data elements.\n",
    "- If you shift-right-click on a extrema of the upper plot, it will align the period markers to that location."
   ],
   "id": "ca69c7affd2095af"
  },
  {
   "metadata": {},
   "cell_type": "code",
   "outputs": [],
   "execution_count": null,
   "source": [
    "data_loader = MITElementLoader( cfg.data )\n",
    "data_loader.init_epoch(TSet.Train)\n",
    "dplot = RawDatasetPlot(f\"{version}: Lightcurves\", data_loader )\n",
    "\n",
    "embedding_space_array, embedding_space_tensor = embedding_space(cfg.transform, device)\n",
    "embedding = SpectralProjection( cfg.transform, embedding_space_tensor, device )\n",
    "model: nn.Module = get_model_from_cfg( cfg,  embedding ).to(device)\n",
    "\n",
    "evaluator = OctaveClassificationTrainer( cfg, device, data_loader, model, embedding )\n",
    "evaluator.init_eval(version)\n",
    "wplot = ClassificationEvalPlot(f\"Lightcurve Period Analysis, model=spectral_cnn\", evaluator )\n",
    "\n",
    "fig = SignalPlotFigure([dplot,wplot])\n",
    "fig.show()"
   ],
   "id": "2c78cf8703a03506"
  }
 ],
 "metadata": {
  "kernelspec": {
   "display_name": "Python 3",
   "language": "python",
   "name": "python3"
  },
  "language_info": {
   "codemirror_mode": {
    "name": "ipython",
    "version": 2
   },
   "file_extension": ".py",
   "mimetype": "text/x-python",
   "name": "python",
   "nbconvert_exporter": "python",
   "pygments_lexer": "ipython2",
   "version": "2.7.6"
  }
 },
 "nbformat": 4,
 "nbformat_minor": 5
}
