{
 "cells": [
  {
   "cell_type": "code",
   "execution_count": null,
   "id": "30ba0bd8285a9e96",
   "metadata": {},
   "source": [
    "%matplotlib widget\n",
    "import numpy as np\n",
    "import matplotlib.pyplot as plt\n",
    "\n",
    "data_dir =  \"/explore/nobackup/projects/ilab/data/astrotime/demo\"\n",
    "data=np.load( f'{data_dir}/jordan_data.npz',allow_pickle=True )\n",
    "signals = data['signals']\n",
    "times = data['times']"
   ],
   "outputs": []
  },
  {
   "metadata": {},
   "cell_type": "code",
   "outputs": [],
   "execution_count": null,
   "source": [
    "fig, axs = plt.subplots(20, 5, figsize=(20,50))\n",
    "for ip in range(100):\n",
    "\taxs[ip//5, ip%5].plot( times[ip], signals[ip] )\n",
    "\taxs[ip//5, ip%5].set_title(f\"signal {ip}\")\n",
    "plt.tight_layout()\n",
    "plt.show()"
   ],
   "id": "initial_id"
  }
 ],
 "metadata": {
  "kernelspec": {
   "display_name": "Python 3",
   "language": "python",
   "name": "python3"
  },
  "language_info": {
   "codemirror_mode": {
    "name": "ipython",
    "version": 2
   },
   "file_extension": ".py",
   "mimetype": "text/x-python",
   "name": "python",
   "nbconvert_exporter": "python",
   "pygments_lexer": "ipython2",
   "version": "2.7.6"
  }
 },
 "nbformat": 4,
 "nbformat_minor": 5
}
