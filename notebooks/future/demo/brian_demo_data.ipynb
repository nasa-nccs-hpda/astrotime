{
 "cells": [
  {
   "cell_type": "code",
   "execution_count": null,
   "id": "30ba0bd8285a9e96",
   "metadata": {},
   "source": [
    "%matplotlib widget\n",
    "import numpy as np\n",
    "import matplotlib.pyplot as plt\n",
    "\n",
    "data_dir =  \"/explore/nobackup/projects/ilab/data/astrotime/demo\"\n",
    "data=np.load( f'{data_dir}/jordan_data.npz',allow_pickle=True )\n",
    "signals = data['signals']\n",
    "times = data['times']\n",
    "binary_times = data['binary_times']"
   ],
   "outputs": []
  },
  {
   "metadata": {},
   "cell_type": "code",
   "outputs": [],
   "execution_count": null,
   "source": [
    "index=1\n",
    "X = binary_times[index].astype(np.float32)\n",
    "T = times[index]\n",
    "Y = signals[index]\n",
    "\n",
    "print( f\"X.shape={X.shape}, T.shape={T.shape}, Y.shape={Y.shape}\")\n",
    "print( f\" T: {T[:8].tolist()}, Y: {Y[:8].tolist()}\")\n",
    "dt = T[1:]-T[:-1]\n",
    "print( f\"dt stats: mean:{dt.mean():.4f}, std:{dt.std():.4f}, range: {dt.min():.4f} -> {dt.max():.4f}\")\n",
    "plt.figure(figsize=(15,5))\n",
    "plt.plot(T,Y,label=f'timeseries {index}')\n",
    "plt.show()"
   ],
   "id": "initial_id"
  }
 ],
 "metadata": {
  "kernelspec": {
   "display_name": "Python 3",
   "language": "python",
   "name": "python3"
  },
  "language_info": {
   "codemirror_mode": {
    "name": "ipython",
    "version": 2
   },
   "file_extension": ".py",
   "mimetype": "text/x-python",
   "name": "python",
   "nbconvert_exporter": "python",
   "pygments_lexer": "ipython2",
   "version": "2.7.6"
  }
 },
 "nbformat": 4,
 "nbformat_minor": 5
}
