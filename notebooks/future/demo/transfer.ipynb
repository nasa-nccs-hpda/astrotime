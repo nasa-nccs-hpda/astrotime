{
 "cells": [
  {
   "cell_type": "code",
   "execution_count": null,
   "id": "675d891220f5aeae",
   "metadata": {},
   "source": [
    "%matplotlib widget\n",
    "import math, numpy as np\n",
    "import matplotlib.pyplot as plt\n",
    "import tensorflow as tf\n",
    "from tensorflow.keras.callbacks import ModelCheckpoint\n",
    "from tensorflow.keras.optimizers import Adam\n",
    "tf.config.set_visible_devices([], 'GPU')             # disable GPU for this notebook\n",
    "\n",
    "signal_index=2\n",
    "expt_index=4\n",
    "\n",
    "def get_features( T: np.ndarray ) -> np.ndarray:\n",
    "    features = []\n",
    "    t, tL = T-T[0], T[-1]-T[0]\n",
    "    features.append(t/tL)\n",
    "    for ibase, npow in [ (2,12) ]: # , (3,8), (5,5), (6,4), (7,3) ]:\n",
    "        for ip in range(1,npow+1):\n",
    "            base = tL/math.pow( ibase, ip )\n",
    "            features.append( np.mod(t,base)/base )\n",
    "    return np.stack(features, axis=1)\n",
    "\n",
    "data_dir =  \"/explore/nobackup/projects/ilab/data/astrotime/demo\"\n",
    "ckp_file = f\"{data_dir}/embed_time_predict.e{expt_index}.s{signal_index}.weights.h5\"\n",
    "data=np.load( f'{data_dir}/jordan_data.npz',allow_pickle=True )\n",
    "signals = data['signals']\n",
    "times = data['times']\n",
    "#binary_times = data['binary_times']\n",
    "\n",
    "# X = binary_times[signal_index].astype(np.float32)\n",
    "X: np.ndarray = get_features( times[signal_index] )\n",
    "Y: np.ndarray = signals[signal_index]\n",
    "T: np.ndarray = times[signal_index]\n",
    "validation_split: int = int(0.8*X.shape[0])\n",
    "\n",
    "Xtrain=X[:validation_split]\n",
    "Xval=X[validation_split:]\n",
    "Ytrain=Y[:validation_split]\n",
    "Yval=Y[validation_split:]"
   ],
   "outputs": []
  },
  {
   "metadata": {},
   "cell_type": "code",
   "outputs": [],
   "execution_count": null,
   "source": [
    "def create_small_model(nfeatures: int, dropout_frac: float):\n",
    "    binary_times_input = tf.keras.Input(shape=(nfeatures,), name=\"time_features\")\n",
    "\n",
    "    x = tf.keras.layers.Dense(512, activation='tanh')(binary_times_input)\n",
    "    x = tf.keras.layers.Dropout(dropout_frac)(x)\n",
    "    x = tf.keras.layers.BatchNormalization()(x)\n",
    "    x = tf.keras.layers.Dense(512, activation='tanh')(x)\n",
    "    x = tf.keras.layers.Dropout(dropout_frac)(x)\n",
    "    x = tf.keras.layers.BatchNormalization()(x)\n",
    "    x = tf.keras.layers.Dense(512, activation='tanh')(x)\n",
    "    x = tf.keras.layers.Dropout(dropout_frac)(x)\n",
    "    x = tf.keras.layers.BatchNormalization()(x)\n",
    "    x = tf.keras.layers.Dense(512, activation='tanh')(x)\n",
    "    x = tf.keras.layers.BatchNormalization()(x)\n",
    "\n",
    "    outputs = tf.keras.layers.Dense(1, activation='linear')(x)\n",
    "    model = tf.keras.Model(inputs=binary_times_input, outputs=outputs)\n",
    "    return model"
   ],
   "id": "98324cc2c723fe04"
  },
  {
   "metadata": {},
   "cell_type": "code",
   "outputs": [],
   "execution_count": null,
   "source": [
    "optimizer = Adam( learning_rate=0.001, name='adam' )\n",
    "model = create_small_model(X.shape[1],0.5)\n",
    "model.compile(optimizer=optimizer, loss='mae')\n",
    "model.load_weights( ckp_file )\n",
    "p0=model.predict(Xtrain,batch_size=256)\n",
    "p1=model.predict(Xval,batch_size=256)"
   ],
   "id": "30ba0bd8285a9e96"
  },
  {
   "metadata": {},
   "cell_type": "code",
   "outputs": [],
   "execution_count": null,
   "source": [
    "plt.figure(figsize=(15,5))\n",
    "plt.plot(T,Y,label='truth')\n",
    "plt.plot(T[:validation_split],p0[:,0],label='train prediction')\n",
    "plt.plot(T[validation_split:],p1[:,0],label='val prediction')\n",
    "plt.title(f'Signal {signal_index}')\n",
    "plt.legend()\n",
    "plt.tight_layout()\n",
    "plt.show()"
   ],
   "id": "75d7327c9ccbf7ed"
  }
 ],
 "metadata": {
  "kernelspec": {
   "display_name": "Python 3",
   "language": "python",
   "name": "python3"
  },
  "language_info": {
   "codemirror_mode": {
    "name": "ipython",
    "version": 2
   },
   "file_extension": ".py",
   "mimetype": "text/x-python",
   "name": "python",
   "nbconvert_exporter": "python",
   "pygments_lexer": "ipython2",
   "version": "2.7.6"
  }
 },
 "nbformat": 4,
 "nbformat_minor": 5
}
