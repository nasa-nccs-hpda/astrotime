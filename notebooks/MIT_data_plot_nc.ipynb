{
 "cells": [
  {
   "metadata": {},
   "cell_type": "code",
   "outputs": [],
   "execution_count": null,
   "source": [
    "%matplotlib widget\n",
    "%load_ext autoreload\n",
    "%autoreload 2\n",
    "\n",
    "from astrotime.util.series import TSet\n",
    "from astrotime.loaders.MIT import MITLoader\n",
    "from astrotime.encoders.wavelet import WaveletAnalysisLayer\n",
    "from astrotime.plot.MIT import MITDatasetPlot, MITTransformPlot\n",
    "from astrotime.config.context import astrotime_initialize\n",
    "from astrotime.plot.base import SignalPlotFigure\n",
    "import torch\n",
    "from hydra import initialize, compose"
   ],
   "id": "7433740421e99ab5"
  },
  {
   "metadata": {},
   "cell_type": "code",
   "outputs": [],
   "execution_count": null,
   "source": [
    "version = \"MIT_period.wp\"\n",
    "overrides = []\n",
    "initialize(version_base=None, config_path=\"../config\" )\n",
    "cfg = compose( config_name=version, overrides=overrides )\n",
    "device: torch.device = astrotime_initialize(cfg,version)\n",
    "sector = cfg.data.sector_range[0]"
   ],
   "id": "c57c7d4042e20ac3"
  },
  {
   "metadata": {},
   "cell_type": "code",
   "outputs": [],
   "execution_count": null,
   "source": [
    "data_loader = MITLoader( cfg.data )\n",
    "data_loader.initialize(TSet.Train)\n",
    "splot = MITDatasetPlot(\"MIT lightcurves\", data_loader, sector )\n",
    "fig = SignalPlotFigure([splot])\n",
    "fig.show()\n"
   ],
   "id": "4da930be803cf780"
  },
  {
   "metadata": {
    "collapsed": true
   },
   "cell_type": "code",
   "outputs": [],
   "execution_count": null,
   "source": [
    "data_loader = MITLoader( cfg.data )\n",
    "data_loader.initialize(TSet.Train)\n",
    "dplot = MITDatasetPlot(\"MIT lightcurves\", data_loader, sector )\n",
    "WWATransform = WaveletAnalysisLayer( cfg.transform, device )\n",
    "wplot = MITTransformPlot(\"WWAnalysis Transform\", data_loader, WWATransform, sector )\n",
    "\n",
    "fig = SignalPlotFigure([dplot,wplot])\n",
    "fig.show()"
   ],
   "id": "initial_id"
  }
 ],
 "metadata": {
  "kernelspec": {
   "display_name": "Python 3",
   "language": "python",
   "name": "python3"
  },
  "language_info": {
   "codemirror_mode": {
    "name": "ipython",
    "version": 2
   },
   "file_extension": ".py",
   "mimetype": "text/x-python",
   "name": "python",
   "nbconvert_exporter": "python",
   "pygments_lexer": "ipython2",
   "version": "2.7.6"
  }
 },
 "nbformat": 4,
 "nbformat_minor": 5
}
