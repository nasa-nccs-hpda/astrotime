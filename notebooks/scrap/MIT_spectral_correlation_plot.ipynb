{
 "cells": [
  {
   "metadata": {},
   "cell_type": "code",
   "outputs": [],
   "execution_count": null,
   "source": [
    "%matplotlib widget\n",
    "from astrotime.util.series import TSet\n",
    "from astrotime.loaders.MIT import MITOctavesLoader\n",
    "from astrotime.encoders.spectral_autocorr import HarmonicsFilterLayer\n",
    "from astrotime.encoders.octaves import OctaveAnalysisLayer, embedding_space\n",
    "from astrotime.plot.MIT import MITDatasetPlot, MITTransformPlot\n",
    "from astrotime.config.context import astrotime_initialize\n",
    "from astrotime.plot.base import SignalPlotFigure\n",
    "import torch\n",
    "from hydra import initialize, compose"
   ],
   "id": "7433740421e99ab5"
  },
  {
   "metadata": {},
   "cell_type": "code",
   "outputs": [],
   "execution_count": null,
   "source": [
    "version = \"MIT_period.octaves\"\n",
    "overrides = []\n",
    "initialize(version_base=None, config_path=\"../../config\")\n",
    "cfg = compose( config_name=version, overrides=overrides )\n",
    "device: torch.device = astrotime_initialize(cfg,version+\".plot\")\n",
    "sector = cfg.data.sector_range[0]"
   ],
   "id": "c57c7d4042e20ac3"
  },
  {
   "metadata": {},
   "cell_type": "markdown",
   "source": "",
   "id": "ca69c7affd2095af"
  },
  {
   "metadata": {},
   "cell_type": "code",
   "outputs": [],
   "execution_count": null,
   "source": [
    "data_loader = MITOctavesLoader( cfg.data )\n",
    "data_loader.initialize( TSet.Train )\n",
    "plot_freq_space, embedding_space_tensor = embedding_space( cfg.transform, device )\n",
    "\n",
    "dplot = MITDatasetPlot( \"Lightcurves\", data_loader, sector )\n",
    "transforms = dict(  analysis  = OctaveAnalysisLayer( cfg.transform, embedding_space_tensor, device ),\n",
    "                    harmonics_filter  = HarmonicsFilterLayer( cfg.transform, device ))\n",
    "wplot = MITTransformPlot(\"Spectral Autocorrelation\", data_loader, transforms, sector )\n",
    "\n",
    "fig = SignalPlotFigure([dplot,wplot])\n",
    "fig.show()"
   ],
   "id": "2c78cf8703a03506"
  }
 ],
 "metadata": {
  "kernelspec": {
   "display_name": "Python 3",
   "language": "python",
   "name": "python3"
  },
  "language_info": {
   "codemirror_mode": {
    "name": "ipython",
    "version": 2
   },
   "file_extension": ".py",
   "mimetype": "text/x-python",
   "name": "python",
   "nbconvert_exporter": "python",
   "pygments_lexer": "ipython2",
   "version": "2.7.6"
  }
 },
 "nbformat": 4,
 "nbformat_minor": 5
}
