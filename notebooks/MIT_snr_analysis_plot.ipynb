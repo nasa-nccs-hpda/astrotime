{
 "cells": [
  {
   "metadata": {},
   "cell_type": "code",
   "outputs": [],
   "execution_count": null,
   "source": [
    "%matplotlib widget\n",
    "from astrotime.util.series import TSet\n",
    "from astrotime.loaders.MIT import MITLoader\n",
    "from astrotime.config.context import astrotime_initialize\n",
    "from astrotime.plot.snr import snr_analysis\n",
    "import matplotlib.pyplot as plt\n",
    "import torch\n",
    "from hydra import initialize, compose"
   ],
   "id": "7433740421e99ab5"
  },
  {
   "metadata": {},
   "cell_type": "code",
   "outputs": [],
   "execution_count": null,
   "source": [
    "version = \"MIT_period.octaves\"\n",
    "overrides = []\n",
    "initialize(version_base=None, config_path=\"../config\" )\n",
    "cfg = compose( config_name=version, overrides=overrides )\n",
    "device: torch.device = astrotime_initialize(cfg,version+\".plot\")"
   ],
   "id": "c57c7d4042e20ac3"
  },
  {
   "metadata": {},
   "cell_type": "markdown",
   "source": "",
   "id": "ca69c7affd2095af"
  },
  {
   "metadata": {},
   "cell_type": "code",
   "outputs": [],
   "execution_count": null,
   "source": [
    "data_loader = MITLoader( cfg.data )\n",
    "data_loader.initialize( TSet.Train )\n",
    "snr_values = snr_analysis( data_loader )\n",
    "plt.hist(snr_values, color='lightgreen', ec='black', bins=64)"
   ],
   "id": "2c78cf8703a03506"
  }
 ],
 "metadata": {
  "kernelspec": {
   "display_name": "Python 3",
   "language": "python",
   "name": "python3"
  },
  "language_info": {
   "codemirror_mode": {
    "name": "ipython",
    "version": 2
   },
   "file_extension": ".py",
   "mimetype": "text/x-python",
   "name": "python",
   "nbconvert_exporter": "python",
   "pygments_lexer": "ipython2",
   "version": "2.7.6"
  }
 },
 "nbformat": 4,
 "nbformat_minor": 5
}
