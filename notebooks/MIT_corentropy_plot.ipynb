{
 "cells": [
  {
   "metadata": {},
   "cell_type": "code",
   "outputs": [],
   "execution_count": null,
   "source": [
    "%matplotlib widget\n",
    "from astrotime.util.series import TSet\n",
    "from astrotime.loaders.MIT import MITLoader\n",
    "from astrotime.encoders.corentropy import CorentropyLayer\n",
    "from astrotime.plot.MIT import MITDatasetPlot, MITTransformPlot\n",
    "from astrotime.config.context import astrotime_initialize\n",
    "from astrotime.encoders.wavelet import embedding_space\n",
    "from astrotime.plot.base import SignalPlotFigure\n",
    "import torch\n",
    "from hydra import initialize, compose"
   ],
   "id": "7433740421e99ab5"
  },
  {
   "metadata": {},
   "cell_type": "code",
   "outputs": [],
   "execution_count": null,
   "source": [
    "version = \"MIT_period.ce\"\n",
    "overrides = []\n",
    "initialize(version_base=None, config_path=\"../config\" )\n",
    "cfg = compose( config_name=version, overrides=overrides )\n",
    "device: torch.device = astrotime_initialize(cfg,version)\n",
    "sector = cfg.data.sector_range[0]\n",
    "tparms = dict( ysigma=(0.01,1.0,True), tsigma=(0.01,1.0,True) )"
   ],
   "id": "c57c7d4042e20ac3"
  },
  {
   "metadata": {},
   "cell_type": "markdown",
   "source": "",
   "id": "ca69c7affd2095af"
  },
  {
   "metadata": {},
   "cell_type": "code",
   "outputs": [],
   "execution_count": null,
   "source": [
    "data_loader = MITLoader( cfg.data )\n",
    "data_loader.initialize( TSet.Train, test_mode=False )\n",
    "embedding_space_array, embedding_space_tensor = embedding_space( cfg.transform, device )\n",
    "\n",
    "dplot = MITDatasetPlot(\"MIT lightcurves\", data_loader, sector )\n",
    "transforms = dict( corentropy = CorentropyLayer( cfg.transform, embedding_space_tensor, device ) )\n",
    "wplot = MITTransformPlot(\"Corentropy Transform\", data_loader, transforms, embedding_space_array, sector, tparms )\n",
    "wplot.add_event_listener( dplot.process_external_event )\n",
    "\n",
    "fig = SignalPlotFigure([dplot,wplot])\n",
    "fig.show()"
   ],
   "id": "2c78cf8703a03506"
  }
 ],
 "metadata": {
  "kernelspec": {
   "display_name": "Python 3",
   "language": "python",
   "name": "python3"
  },
  "language_info": {
   "codemirror_mode": {
    "name": "ipython",
    "version": 2
   },
   "file_extension": ".py",
   "mimetype": "text/x-python",
   "name": "python",
   "nbconvert_exporter": "python",
   "pygments_lexer": "ipython2",
   "version": "2.7.6"
  }
 },
 "nbformat": 4,
 "nbformat_minor": 5
}
