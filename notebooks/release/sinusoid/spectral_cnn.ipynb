{
 "cells": [
  {
   "metadata": {},
   "cell_type": "code",
   "outputs": [],
   "execution_count": null,
   "source": [
    "%matplotlib widget\n",
    "from torch import nn\n",
    "from astrotime.encoders.spectral import SpectralProjection, embedding_space\n",
    "from astrotime.models.cnn.cnn_baseline import get_model_from_cfg\n",
    "from astrotime.plot.analysis import RawDatasetPlot\n",
    "from astrotime.loaders.sinusoid import SinusoidElementLoader\n",
    "from astrotime.plot.analysis import EvaluatorPlot\n",
    "from astrotime.config.context import astrotime_initialize\n",
    "from astrotime.plot.base import SignalPlotFigure\n",
    "from astrotime.trainers.iterative_trainer import IterativeTrainer\n",
    "import torch\n",
    "from astrotime.util.series import TSet\n",
    "from hydra import initialize, compose\n",
    "\n",
    "version = \"sinusoid_period\"\n",
    "mtype = \"cnn\""
   ],
   "id": "7433740421e99ab5"
  },
  {
   "metadata": {},
   "cell_type": "code",
   "outputs": [],
   "execution_count": null,
   "source": [
    "overrides = [ 'platform.gpu=-1', 'data.batch_size=1' ]\n",
    "initialize(version_base=None, config_path=\"../../../config\")\n",
    "cfg = compose( config_name=version, overrides=overrides )\n",
    "device: torch.device = astrotime_initialize(cfg,version+\".plot\")"
   ],
   "id": "c57c7d4042e20ac3"
  },
  {
   "metadata": {},
   "cell_type": "markdown",
   "source": "Documentation\n",
   "id": "ca69c7affd2095af"
  },
  {
   "metadata": {},
   "cell_type": "code",
   "outputs": [],
   "execution_count": null,
   "source": [
    "data_loader = SinusoidElementLoader( cfg.data, TSet.Train, use_batches=False )\n",
    "dplot = RawDatasetPlot( f\"{version}: Lightcurves\", data_loader )\n",
    "\n",
    "embedding_space_array, embedding_space_tensor = embedding_space(cfg.transform, device)\n",
    "embedding = SpectralProjection( cfg.transform, embedding_space_tensor, device )\n",
    "model: nn.Module = get_model_from_cfg( cfg,  embedding ).to(device)\n",
    "\n",
    "evaluator = IterativeTrainer( cfg, device, data_loader, model, embedding )\n",
    "evaluator.init_evel(version)\n",
    "wplot = EvaluatorPlot( f\"Lightcurve Period Analysis, model=spectral_{mtype}\", evaluator )\n",
    "\n",
    "fig = SignalPlotFigure( [dplot, wplot] )\n",
    "fig.show()"
   ],
   "id": "2c78cf8703a03506"
  }
 ],
 "metadata": {
  "kernelspec": {
   "display_name": "Python 3",
   "language": "python",
   "name": "python3"
  },
  "language_info": {
   "codemirror_mode": {
    "name": "ipython",
    "version": 2
   },
   "file_extension": ".py",
   "mimetype": "text/x-python",
   "name": "python",
   "nbconvert_exporter": "python",
   "pygments_lexer": "ipython2",
   "version": "2.7.6"
  }
 },
 "nbformat": 4,
 "nbformat_minor": 5
}
