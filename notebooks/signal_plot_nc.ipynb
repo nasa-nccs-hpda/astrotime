{
 "cells": [
  {
   "metadata": {},
   "cell_type": "code",
   "outputs": [],
   "execution_count": null,
   "source": [
    "\n",
    "%matplotlib widget\n",
    "%load_ext autoreload\n",
    "%autoreload 2\n",
    "\n",
    "import numpy as np\n",
    "import xarray as xa\n",
    "from typing import List, Optional, Dict, Type, Any\n",
    "from astrotime.loaders.sinusoid import ncSinusoidLoader\n",
    "from astrotime.plot.data import SignalDataPlot\n",
    "from astrotime.config.context import astrotime_initialize\n",
    "from astrotime.plot.base import SignalPlotFigure\n",
    "from astrotime.util.math import npnorm\n",
    "import logging, torch\n",
    "from hydra import initialize, compose"
   ],
   "id": "7433740421e99ab5"
  },
  {
   "metadata": {},
   "cell_type": "code",
   "outputs": [],
   "execution_count": null,
   "source": [
    "config_name=\"sinusoid_period.wwz\"\n",
    "overrides = []"
   ],
   "id": "c57c7d4042e20ac3"
  },
  {
   "metadata": {},
   "cell_type": "code",
   "outputs": [],
   "execution_count": null,
   "source": [
    "initialize(version_base=None, config_path=\"../config\" )\n",
    "cfg = compose( config_name=config_name, overrides=overrides )\n",
    "log = logging.getLogger(__name__)\n",
    "device: torch.device = astrotime_initialize(cfg)\n",
    "dset_id = 9"
   ],
   "id": "832bcaf0b8747018"
  },
  {
   "metadata": {},
   "cell_type": "code",
   "outputs": [],
   "execution_count": null,
   "source": [
    "sinusoid_loader = ncSinusoidLoader( cfg.data )\n",
    "\n",
    "xdset: xa.Dataset = sinusoid_loader.get_dataset(dset_id)\n",
    "target: np.ndarray = xdset['p'].values\n",
    "y: np.ndarray = npnorm( xdset['y'].values, 1 )\n",
    "t: np.ndarray = xdset['t'].values"
   ],
   "id": "4da930be803cf780"
  },
  {
   "metadata": {
    "collapsed": true
   },
   "cell_type": "code",
   "outputs": [],
   "execution_count": null,
   "source": [
    "splot = SignalDataPlot(\"Sinusoid\", t, y )\n",
    "fig = SignalPlotFigure([splot])\n",
    "fig.show()"
   ],
   "id": "initial_id"
  }
 ],
 "metadata": {
  "kernelspec": {
   "display_name": "Python 3",
   "language": "python",
   "name": "python3"
  },
  "language_info": {
   "codemirror_mode": {
    "name": "ipython",
    "version": 2
   },
   "file_extension": ".py",
   "mimetype": "text/x-python",
   "name": "python",
   "nbconvert_exporter": "python",
   "pygments_lexer": "ipython2",
   "version": "2.7.6"
  }
 },
 "nbformat": 4,
 "nbformat_minor": 5
}
